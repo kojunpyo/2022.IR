{
  "cells": [
    {
      "cell_type": "markdown",
      "metadata": {
        "id": "view-in-github",
        "colab_type": "text"
      },
      "source": [
        "<a href=\"https://colab.research.google.com/github/kojunpyo/2022.IR/blob/main/09_%EC%82%AC%EC%9A%A9%EC%9E%90_%EC%A0%95%EC%9D%98_%ED%95%A8%EC%88%98_25102480_%EA%B3%A0%EC%A4%80%ED%91%9C_1.ipynb\" target=\"_parent\"><img src=\"https://colab.research.google.com/assets/colab-badge.svg\" alt=\"Open In Colab\"/></a>"
      ]
    },
    {
      "cell_type": "markdown",
      "metadata": {
        "id": "BiWaHdtyrj08"
      },
      "source": [
        "함수 : 재사용 가능한 프로그램의 조각,\n",
        "특정 블록의 명령어들을 묶어 이름을 붙이고 그 이름을 프로그램 어디에서든 사용함으로써\n",
        "그 블록에 포함된 명령어들을 몇 번이고 다시 실행"
      ]
    },
    {
      "cell_type": "markdown",
      "metadata": {
        "id": "Lv_oqfg6rj0_"
      },
      "source": [
        "# 사용자 정의 함수\n"
      ]
    },
    {
      "cell_type": "code",
      "execution_count": null,
      "metadata": {
        "id": "VCJgsymDrj1A",
        "colab": {
          "base_uri": "https://localhost:8080/"
        },
        "outputId": "f7e28f44-0c4d-4a28-adf4-65f938aa5198"
      },
      "outputs": [
        {
          "output_type": "stream",
          "name": "stdout",
          "text": [
            "1 2\n",
            "3\n"
          ]
        }
      ],
      "source": [
        "#a, b 두 수의 합계를 구하는 함수\n",
        "def hap(n, m) :\n",
        "  return n+m\n",
        "a, b = map(int,input().split())\n",
        "print(hap(a, b))"
      ]
    },
    {
      "cell_type": "code",
      "execution_count": null,
      "metadata": {
        "id": "mDkQSSgHrj1C",
        "colab": {
          "base_uri": "https://localhost:8080/"
        },
        "outputId": "f0e79a08-7f5c-4c9d-9282-cc91125209fc"
      },
      "outputs": [
        {
          "output_type": "stream",
          "name": "stdout",
          "text": [
            "10\n",
            "55\n"
          ]
        }
      ],
      "source": [
        "#1부터 n까지 합계를 구하는 함수\n",
        "def hap(n) :\n",
        "  sum = 0\n",
        "  for i in range(n):\n",
        "    sum += i+1\n",
        "  return sum\n",
        "print(hap(int(input())))"
      ]
    },
    {
      "cell_type": "code",
      "execution_count": null,
      "metadata": {
        "id": "dSAA5Obmrj1D",
        "colab": {
          "base_uri": "https://localhost:8080/"
        },
        "outputId": "0bd8c049-c0ad-4161-d6bb-545881185ed9"
      },
      "outputs": [
        {
          "output_type": "stream",
          "name": "stdout",
          "text": [
            "1 10\n",
            "[1, 2, 3, 4, 5, 6, 7, 8, 9, 10]\n"
          ]
        }
      ],
      "source": [
        "#a, b 두 수 사이의 정수를 리스트로 만드는 함수\n",
        "def f(m, n):\n",
        "  list = []\n",
        "  for i in range(m, n+1):\n",
        "    list.append(i)\n",
        "  return list\n",
        "a, b = map(int, input().split())\n",
        "c = f(a, b)\n",
        "print(c)"
      ]
    },
    {
      "cell_type": "code",
      "execution_count": null,
      "metadata": {
        "id": "1lopPIukrj1D",
        "colab": {
          "base_uri": "https://localhost:8080/"
        },
        "outputId": "9cccc758-6096-47c3-fda7-7296f504ec6f"
      },
      "outputs": [
        {
          "output_type": "stream",
          "name": "stdout",
          "text": [
            "1 10\n",
            "[1, 3, 5, 7, 9]\n"
          ]
        }
      ],
      "source": [
        "#a, b 두 수 사이의 홀수를 리스트로 만드는 함수\n",
        "def f(m, n):\n",
        "  list = []\n",
        "  for i in range(m, n+1):\n",
        "    if i % 2 == 1:\n",
        "      list.append(i)\n",
        "  return list\n",
        "a, b = map(int, input().split())\n",
        "c = f(a, b)\n",
        "print(c)"
      ]
    },
    {
      "cell_type": "code",
      "execution_count": null,
      "metadata": {
        "id": "mrAoFyKkrj1D",
        "colab": {
          "base_uri": "https://localhost:8080/"
        },
        "outputId": "8801a84c-b4cb-4715-8788-d7164267edcd"
      },
      "outputs": [
        {
          "output_type": "stream",
          "name": "stdout",
          "text": [
            "문자열 입력 : abcdef\n",
            "문자열 길이 :  6\n"
          ]
        }
      ],
      "source": [
        "#문자열 길이 구하는 함수\n",
        "def length(s):\n",
        "  count = 0\n",
        "  for i in s:\n",
        "    count +=1\n",
        "  return count\n",
        "a = input('문자열 입력 : ')\n",
        "res = length(a)\n",
        "print('문자열 길이 : ', res)"
      ]
    },
    {
      "cell_type": "code",
      "execution_count": null,
      "metadata": {
        "id": "ME0sz3pArj1E",
        "colab": {
          "base_uri": "https://localhost:8080/"
        },
        "outputId": "3a7a6305-d38a-46f8-d11d-41428580440c"
      },
      "outputs": [
        {
          "output_type": "stream",
          "name": "stdout",
          "text": [
            "리스트 항목 입력 : 1 2 3 4 5\n",
            "리스트 길이 :  5\n"
          ]
        }
      ],
      "source": [
        "#리스트의 길이 구하는 함수\n",
        "def length(list):\n",
        "  count = 0\n",
        "  for i in list:\n",
        "    count += 1\n",
        "  return count\n",
        "a = input('리스트 항목 입력 : ').split()\n",
        "res = length(a)\n",
        "print('리스트 길이 : ', res)"
      ]
    },
    {
      "cell_type": "code",
      "execution_count": null,
      "metadata": {
        "id": "5EWJtViIrj1E",
        "colab": {
          "base_uri": "https://localhost:8080/"
        },
        "outputId": "5526bf8a-4a9a-4a7c-d2fe-95572f6a1dc9"
      },
      "outputs": [
        {
          "output_type": "stream",
          "name": "stdout",
          "text": [
            "100\n",
            "0\n"
          ]
        }
      ],
      "source": [
        "#리스트의 특정 항목의 갯수 구하는 함수\n",
        "def cnt(n, list):\n",
        "  count = 0\n",
        "  for i in list:\n",
        "    if i == n:\n",
        "      count += 1\n",
        "  return count\n",
        "a = [9, 7, 10, 8, 5, 7, 7, 9, 3, 5]\n",
        "n = int(input())\n",
        "res = cnt(n, a)\n",
        "print(res)"
      ]
    },
    {
      "cell_type": "code",
      "execution_count": null,
      "metadata": {
        "id": "8gAnkyR6rj1E",
        "colab": {
          "base_uri": "https://localhost:8080/"
        },
        "outputId": "fb9058ea-4990-46dc-bf76-ef1a47c1d4d5"
      },
      "outputs": [
        {
          "output_type": "stream",
          "name": "stdout",
          "text": [
            "100\n",
            "None\n"
          ]
        }
      ],
      "source": [
        "# 리스트의 특정 항목의 위치 구하는 함수\n",
        "def idx(n, list):\n",
        "  count = 0\n",
        "  for i in list:\n",
        "    count += 1\n",
        "    if i == n:\n",
        "      return count\n",
        "a = [9, 7, 10, 8, 5, 7, 7, 9, 3, 5]\n",
        "n = int(input())\n",
        "res = idx(n, a)\n",
        "print(res)"
      ]
    },
    {
      "cell_type": "code",
      "execution_count": null,
      "metadata": {
        "id": "U3VvFvLirj1F",
        "colab": {
          "base_uri": "https://localhost:8080/"
        },
        "outputId": "55dbbff4-7719-4fff-cb78-c370e76a4404"
      },
      "outputs": [
        {
          "output_type": "stream",
          "name": "stdout",
          "text": [
            "9 7 10 8 5\n",
            "5\n",
            "8\n",
            "10\n",
            "7\n",
            "9\n"
          ]
        }
      ],
      "source": [
        "#리스트를 거꾸로 출력하는 함수\n",
        "def rev(list):\n",
        "  list.reverse()\n",
        "  for i in list:\n",
        "    print(i)\n",
        "a = input().split()\n",
        "rev(a)"
      ]
    }
  ],
  "metadata": {
    "kernelspec": {
      "display_name": "Python 3",
      "language": "python",
      "name": "python3"
    },
    "language_info": {
      "codemirror_mode": {
        "name": "ipython",
        "version": 3
      },
      "file_extension": ".py",
      "mimetype": "text/x-python",
      "name": "python",
      "nbconvert_exporter": "python",
      "pygments_lexer": "ipython3",
      "version": "3.8.5"
    },
    "colab": {
      "provenance": [],
      "include_colab_link": true
    }
  },
  "nbformat": 4,
  "nbformat_minor": 0
}