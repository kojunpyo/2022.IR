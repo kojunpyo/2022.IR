{
  "cells": [
    {
      "cell_type": "markdown",
      "metadata": {
        "id": "view-in-github",
        "colab_type": "text"
      },
      "source": [
        "<a href=\"https://colab.research.google.com/github/kojunpyo/2022.IR/blob/main/09_%EC%82%AC%EC%9A%A9%EC%9E%90_%EC%A0%95%EC%9D%98_%ED%95%A8%EC%88%98_25102480_%EA%B3%A0%EC%A4%80%ED%91%9C_2.ipynb\" target=\"_parent\"><img src=\"https://colab.research.google.com/assets/colab-badge.svg\" alt=\"Open In Colab\"/></a>"
      ]
    },
    {
      "cell_type": "code",
      "execution_count": null,
      "metadata": {
        "colab": {
          "base_uri": "https://localhost:8080/"
        },
        "id": "SM9Nu_BRFjKz",
        "outputId": "b77cdf36-239a-492f-c59d-be95506c60b6"
      },
      "outputs": [
        {
          "output_type": "stream",
          "name": "stdout",
          "text": [
            "printprintprintprintprintprintprintprintprintprintprintprintprintprintprintprintprintprintprintprintprintprintprintprintprintprintprintprintprintprintprintprintprintprintprintprintprintprintprintprintprintprintprintprintprintprintprintprintprintprint"
          ]
        }
      ],
      "source": [
        "#1107 : 반복 출력하기 1\n",
        "def f():\n",
        "  print(\"print\", end=\"\")\n",
        "\n",
        "for i in range(50) :\n",
        "    f()"
      ]
    },
    {
      "cell_type": "code",
      "execution_count": null,
      "metadata": {
        "colab": {
          "base_uri": "https://localhost:8080/"
        },
        "id": "dng7nXmNFjK0",
        "outputId": "21d4ba1b-6cf9-4eff-e828-9fdaa18b211e"
      },
      "outputs": [
        {
          "output_type": "stream",
          "name": "stdout",
          "text": [
            "100\n",
            "5050\n"
          ]
        }
      ],
      "source": [
        "#1258 : 1부터 n까지 합 구하기\n",
        "def f(n):\n",
        "  sum = 0\n",
        "  for i in range(n):\n",
        "    sum += i+1\n",
        "  return sum\n",
        "\n",
        "a = int(input())\n",
        "print(f(a))"
      ]
    },
    {
      "cell_type": "code",
      "execution_count": null,
      "metadata": {
        "colab": {
          "base_uri": "https://localhost:8080/"
        },
        "id": "wergzJ8UFjK1",
        "outputId": "b5dc5aa5-d5bc-4261-fede-306da72e4a1e"
      },
      "outputs": [
        {
          "output_type": "stream",
          "name": "stdout",
          "text": [
            "5 2\n",
            "5.0\n"
          ]
        }
      ],
      "source": [
        "#1118 : 삼각형의 넓이 구하기\n",
        "def area(m, n):\n",
        "  return a*b/2\n",
        "\n",
        "a, b = map(int, input().split())\n",
        "print(\"%.1f\" %area(a, b))"
      ]
    },
    {
      "cell_type": "code",
      "execution_count": null,
      "metadata": {
        "colab": {
          "base_uri": "https://localhost:8080/"
        },
        "id": "SgrUVhSJFjK1",
        "outputId": "72f9b76e-678a-4ca3-985d-549c29d7432e"
      },
      "outputs": [
        {
          "output_type": "stream",
          "name": "stdout",
          "text": [
            "5\n",
            "8 6 5 3 2\n",
            "2 3 5 6 8 "
          ]
        }
      ],
      "source": [
        "#1402 : 거꾸로 출력하기 3\n",
        "def f(list):\n",
        "  for i in range(n-1, -1, -1):\n",
        "    print(list[i], end=\" \")\n",
        "\n",
        "n = int(input())\n",
        "a = list(map(int, input().split()))\n",
        "f(a)"
      ]
    },
    {
      "cell_type": "code",
      "execution_count": null,
      "metadata": {
        "colab": {
          "base_uri": "https://localhost:8080/"
        },
        "id": "4m2OnMgEFjK1",
        "outputId": "0432455f-f42f-4c90-da92-b052e773bc66"
      },
      "outputs": [
        {
          "output_type": "stream",
          "name": "stdout",
          "text": [
            "5\n",
            "3 1 29 31 5\n",
            "31\n"
          ]
        }
      ],
      "source": [
        "#1271 : 최대값 구하기\n",
        "def f(list):\n",
        "  max = list[0]\n",
        "\n",
        "  for i in list:\n",
        "    if i > max:\n",
        "      max = i\n",
        "  return max\n",
        "\n",
        "n = int(input())\n",
        "a = list(map(int, input().split()))\n",
        "res = f(a)\n",
        "print(res)"
      ]
    },
    {
      "cell_type": "code",
      "execution_count": null,
      "metadata": {
        "colab": {
          "base_uri": "https://localhost:8080/"
        },
        "id": "XVylJqfnFjK2",
        "outputId": "0487c878-6365-47ff-d3a3-a4291b22b38c"
      },
      "outputs": [
        {
          "output_type": "stream",
          "name": "stdout",
          "text": [
            "332\n",
            "0\n"
          ]
        }
      ],
      "source": [
        "#1990 : 3의 배수 판별하기\n",
        "def f(n):\n",
        "  if n % 3 == 0:\n",
        "    return 1\n",
        "  return 0\n",
        "\n",
        "a = int(input())\n",
        "print(f(a))"
      ]
    },
    {
      "cell_type": "code",
      "source": [
        "#1602 : 절대값 함수\n",
        "def f(n):\n",
        " if n < 0:\n",
        "   n = -n\n",
        " return n\n",
        "\n",
        "n = float(input())\n",
        "print(f(n))"
      ],
      "metadata": {
        "colab": {
          "base_uri": "https://localhost:8080/"
        },
        "id": "EjMXn2Hx0QCM",
        "outputId": "c37fb510-a852-4c0b-80e5-8d0880cf3620"
      },
      "execution_count": null,
      "outputs": [
        {
          "output_type": "stream",
          "name": "stdout",
          "text": [
            "0\n",
            "0.0\n"
          ]
        }
      ]
    },
    {
      "cell_type": "code",
      "source": [
        "#1610 : 서브 스트링\n",
        "def f():\n",
        "  str = \"\"\n",
        "  for i in range(s, s+n):\n",
        "    str += st[i]\n",
        "  return str\n",
        "\n",
        "st = input()\n",
        "s, n = map(int,input().split())\n",
        "print(f())"
      ],
      "metadata": {
        "id": "OO25ZVGpH_E2",
        "colab": {
          "base_uri": "https://localhost:8080/"
        },
        "outputId": "b815cc18-4510-4158-f752-83761443fbb4"
      },
      "execution_count": null,
      "outputs": [
        {
          "output_type": "stream",
          "name": "stdout",
          "text": [
            "abcdefg\n",
            "2 3\n",
            "cde\n"
          ]
        }
      ]
    },
    {
      "cell_type": "code",
      "source": [],
      "metadata": {
        "id": "ZN4k9W7fM1Dn"
      },
      "execution_count": null,
      "outputs": []
    }
  ],
  "metadata": {
    "kernelspec": {
      "display_name": "Python 3",
      "language": "python",
      "name": "python3"
    },
    "language_info": {
      "codemirror_mode": {
        "name": "ipython",
        "version": 3
      },
      "file_extension": ".py",
      "mimetype": "text/x-python",
      "name": "python",
      "nbconvert_exporter": "python",
      "pygments_lexer": "ipython3",
      "version": "3.8.5"
    },
    "colab": {
      "provenance": [],
      "include_colab_link": true
    }
  },
  "nbformat": 4,
  "nbformat_minor": 0
}